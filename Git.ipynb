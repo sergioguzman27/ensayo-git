{
 "cells": [
  {
   "attachments": {},
   "cell_type": "markdown",
   "metadata": {},
   "source": [
    "#Descubriendo el mundo de Git"
   ]
  },
  {
   "attachments": {},
   "cell_type": "markdown",
   "metadata": {},
   "source": [
    "Git es una herramienta muy útil para nosotros los desarrolladores, especialmente útil cuando trabajamos en equipo. No importa si nuestro equipo es pequeño o grande, siempre viene bien usar Git."
   ]
  },
  {
   "attachments": {},
   "cell_type": "markdown",
   "metadata": {},
   "source": [
    "##¿Qué es Git?"
   ]
  },
  {
   "attachments": {},
   "cell_type": "markdown",
   "metadata": {},
   "source": [
    "Bien, Git se puede definir como un controlador de versiones o bien como un controlador de código. Otras definiciones para Git podrían ser:"
   ]
  },
  {
   "attachments": {},
   "cell_type": "markdown",
   "metadata": {},
   "source": [
    "- Nube para almacenar nuestro código (Repositorio)\n",
    "- Backup del código en todo momento\n",
    "- Trazabilidad sobre cambios hechos en el proyecto\n",
    "- Controlador de versiones publicadas"
   ]
  },
  {
   "attachments": {},
   "cell_type": "markdown",
   "metadata": {},
   "source": [
    "##Git como repositorio"
   ]
  },
  {
   "attachments": {},
   "cell_type": "markdown",
   "metadata": {},
   "source": [
    "Podemos utilizar herramientas como **Github, Bitbucket, GitLab**, entre otras para alojar nuestro código en la nube. Esto nos brinda el no depender de una computadora o una USB en específico para poder guardar todo el código del proyecto. Lo podemos almacenar en nuestro repositorio y poder ir haciendo actualizaciones a este repositorio con nuevas características para nuestro proyecto."
   ]
  },
  {
   "attachments": {},
   "cell_type": "markdown",
   "metadata": {},
   "source": [
    "![Arquitectura de un repositorio](https://3.bp.blogspot.com/-SnWr9oa-G30/UY6tZKwGZPI/AAAAAAAABLc/dyQGoX_i3E8/s1600/Github.png)"
   ]
  },
  {
   "attachments": {},
   "cell_type": "markdown",
   "metadata": {},
   "source": [
    "Como podemos observar en la imagen anterior, tenemos varias computadoras o usuarios (desarrolladores) que pueden conectarse con el repositorio, en este caso GitHub y trabajar en dicho repositorio, es decir trabajar en el proyecto como tal.\n",
    "\n",
    "¿Qué sucede si necesitamos que el Usuario B tenga los cambios del Usuario A?, pues bien, para eso el Usuario A necesita subir sus cambios y el Usuario B deberá descargarlo, esto se logra con unos simples comandos de Git.\n",
    "\n",
    "Los cambios se van guardando en nuestro repositorio en la nube de donde otros desarrolladores pueden conectarse y obtenerlos fácilmente, sin necesidad de ir con una USB a una computadora en específico y copiar y pegar manualmente los archivos.\n",
    "\n",
    "Quizá con dos desarrolladores sea una tarea fácil compartirse una USB e ir copiando el código, pero ¿qué pasa cuando el equipo es más grande? está es una de las grandes ventajas que tiene Git."
   ]
  },
  {
   "attachments": {},
   "cell_type": "markdown",
   "metadata": {},
   "source": [
    "##Git como forma de tener Backups del código"
   ]
  },
  {
   "attachments": {},
   "cell_type": "markdown",
   "metadata": {},
   "source": [
    "Git también nos sirve para tener control sobre diferentes versiones de nuestro código, todas alejadas en el mismo repositorio, como si de varios backups del proyecto se tratara. Esto se logra gracias al concepto del **commit**, que va dejando rastro de los cambios que ha sufrido nuestro repositorio a través del tiempo y que hace mucho más fácil poder retroceder en el tiempo y volver a una versión previa (un commit previo).\n",
    "\n",
    "Un commit es, en palabras simples, como si estuviéramos tomando capturas de nuestro código en un momento en particular. En esa captura estarán los últimos cambios que añadamos, por lo que si hubo algún error o conflicto con esos cambios es fácil retroceder uno o varios commits previos y obtener nuestro código antes de los últimos cambios hechos.\n",
    "\n",
    "En pocas palabras es como si tuviéramos un álbum de capturas donde nosotros en todo momento podemos ir, buscar una captura y ver el código que había en ese momento."
   ]
  },
  {
   "attachments": {},
   "cell_type": "markdown",
   "metadata": {},
   "source": [
    "##Git como forma para obtener trazabilidad en los cambios"
   ]
  },
  {
   "attachments": {},
   "cell_type": "markdown",
   "metadata": {},
   "source": [
    "En servicios como Bitbucket, Github, Gitlab, podemos ver en todo momento quién ha realizado que cambios. Podemos visualizar quien quitó una linea de código que hacia la conexión hacia la base de datos del proyecto, o en que momento la función para guardar cambios en base de datos dejó de funcionar por un cambio mal hecho.\n",
    "\n",
    "Con ello también obtendremos información como:\n",
    "\n",
    "- El mensaje respectivo del commit, el cual es muy útil como forma de documentar los cambios realizados.\n",
    "- Fecha y hora en la que se hizo el cambio.\n",
    "- Rama en la que se hizo el cambio."
   ]
  },
  {
   "attachments": {},
   "cell_type": "markdown",
   "metadata": {},
   "source": [
    "##Git como controlador de versiones publicadas"
   ]
  },
  {
   "attachments": {},
   "cell_type": "markdown",
   "metadata": {},
   "source": [
    "Supongamos que tenemos nuestro proyecto, y que tenemos 3 ambientes diferentes (como debería de ser). Tenemos Desarrollo, Staging y Producción.\n",
    "\n",
    "El código que se va a compilar y publicar en estos tres ambientes no necesariamente es el mismo, de hecho, muy probablemente no sea el mismo. Por lo que tenemos que ser cuidadosos en temas como no publicar a producción funcionalidades que aún estaban siendo probadas en desarrollo.\n",
    "\n",
    "Esto puede ser complicado, tedioso y puede tender al desastre. Entonces bien, ¿Cómo interfiere Git en todo esto?"
   ]
  },
  {
   "attachments": {},
   "cell_type": "markdown",
   "metadata": {},
   "source": [
    "![Grafo de ramas](https://miro.medium.com/max/552/1*PiduCtSA7kMwdPiMZo1nHw.jpeg)"
   ]
  },
  {
   "attachments": {},
   "cell_type": "markdown",
   "metadata": {},
   "source": [
    "Para eso tenemos lo que son las ramas en Git, una rama (como si de un árbol se tratara) es una bifurcación que tenemos desde un punto de nuestro código (commit). Las ramas son útiles para separar el trabajo que vayamos realizando y que no exista conflictos para trabajar dentro del repositorio. Esto porque cada rama es como un espacio de trabajo aislado del resto, pero aislado no significa que no pueda tener comunicación, cuidado con eso.\n",
    "\n",
    "Podríamos tener una rama que almacenará el código de producción (usualmente llamada master), y podemos tener otra rama para desarrollo (usualmente llamada develop).\n",
    "\n",
    "En caso de tener más ambientes, lo ideal sería tener más ramas. Con la salvedad de que cada vez que queramos publicar algo en un ambiente en específico debemos de ir a esa rama y mover nuestros cambios que deseamos publicar."
   ]
  },
  {
   "attachments": {},
   "cell_type": "markdown",
   "metadata": {},
   "source": [
    "##Comandos utiles en Git"
   ]
  },
  {
   "attachments": {},
   "cell_type": "markdown",
   "metadata": {},
   "source": [
    "- ```git clone <url>                #Clonar un repositorio ```\n",
    "- ```git add *                      #Agregar todos los archivos al stage```\n",
    "- ```git commit --m <mensaje>       #Hacer un commit```\n",
    "- ```git push origin <nombre-rama>  #Subir los cambios a la rama remota```\n",
    "- ```git checkout -b <nombre-rama>  #Crear una rama nueva```\n",
    "- ```git checkout <nombre-rama>     #Cambiar de rama```\n",
    "- ```git status                     #Ver cambios dentro del repositorio```\n",
    "- ```git branch -a                  #Ver tanto ramas locales como remotas```\n",
    "- ```git branch -r                  #Ver solamente ramas remotas```\n",
    "- ```git branch                     #Ver solamente ramas locales```\n",
    "- ```git fetch                      #Actualizar referencias dentro de un repo```\n",
    "- ```git pull                       #Descargar los cambios de una rama```"
   ]
  },
  {
   "attachments": {},
   "cell_type": "markdown",
   "metadata": {},
   "source": [
    "##Resumen"
   ]
  },
  {
   "attachments": {},
   "cell_type": "markdown",
   "metadata": {},
   "source": [
    "Podemos definir Git como una forma de controlar los cambios que va sufriendo un proyecto a lo largo del ciclo de vida, nos sirve también para poder tener copias de seguridad y revertir los cambios en cualquiero momento. Github, así como GitLab y Bitbucket son sabores de Git; plataformas que proveen repositorios remotos para almacenar nuestros proyectos usando git como manejador de versiones del mismo."
   ]
  }
 ],
 "metadata": {
  "language_info": {
   "name": "python"
  },
  "orig_nbformat": 4
 },
 "nbformat": 4,
 "nbformat_minor": 2
}
